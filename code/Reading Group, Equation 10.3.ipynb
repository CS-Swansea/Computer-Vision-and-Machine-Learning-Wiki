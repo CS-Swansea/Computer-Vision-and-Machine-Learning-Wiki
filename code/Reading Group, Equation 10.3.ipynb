{
 "cells": [
  {
   "cell_type": "markdown",
   "metadata": {},
   "source": [
    "# EQ 10.3 does not converge.\n",
    "## HAH!\n",
    "### (Except actually it does.)"
   ]
  },
  {
   "cell_type": "markdown",
   "metadata": {},
   "source": [
    "To determine whether the Equation 10.3. in Stephen Marsland's book *Machine Learning: An Algorithmic Perspective* would lead the probabilistic evolutionary model to converge, Gavin implemented a genetic algorithm in this notebook that generates populations from a string of probabilities.\n",
    "\n",
    "$$ p = p \\times (1 - \\eta) + \\frac{\\eta(\\text{best} + \\text{second})}{2} $$\n",
    "\n",
    "After a lengthy, arduous back-and-forth, he discovered that the equation, as stated in the book, does, indeed, contrary to expectations&mdash;converge."
   ]
  },
  {
   "cell_type": "code",
   "execution_count": 1,
   "metadata": {
    "pycharm": {
     "is_executing": false
    }
   },
   "outputs": [
    {
     "name": "stderr",
     "output_type": "stream",
     "text": [
      "Matplotlib is building the font cache; this may take a moment.\n"
     ]
    }
   ],
   "source": [
    "import numpy as np\n",
    "import matplotlib.pyplot as plt"
   ]
  },
  {
   "cell_type": "markdown",
   "metadata": {},
   "source": [
    "First we initialise a string of probabilities that represents the optimal gene selection (corresponding to a measure on some task; it is only for the sake of having some optimum).\n",
    "\n",
    "Then we initialise the string of probabilities on which we begin to learn, along with some other parameters about our population."
   ]
  },
  {
   "cell_type": "code",
   "execution_count": 2,
   "metadata": {
    "pycharm": {
     "is_executing": false,
     "name": "#%%\n"
    }
   },
   "outputs": [],
   "source": [
    "true_probability = np.array([1.0, 0.0, 1.0, 0.0, 1.0])\n",
    "predict_probability = np.array([0.5, 0.5, 0.5, 0.5, 0.5])\n",
    "max_epoch = 10000\n",
    "population_size = 3\n",
    "lr = 0.005\n",
    "predict_probability_list = np.empty((max_epoch, predict_probability.shape[0]))\n",
    "error = np.empty(max_epoch)"
   ]
  },
  {
   "cell_type": "markdown",
   "metadata": {},
   "source": [
    "At each epoch we generate a pool of new individuals from `predict_probability`.\n",
    "\n",
    "We measure their fitness by comparing their genes to the optimum values (`true_probability`).\n",
    "\n",
    "We rank the individual according to its fitness."
   ]
  },
  {
   "cell_type": "code",
   "execution_count": 3,
   "metadata": {
    "pycharm": {
     "is_executing": false,
     "name": "#%%\n"
    }
   },
   "outputs": [],
   "source": [
    "for epoch in range(10000):\n",
    "    fst_fit = 1000000\n",
    "    fst_person = []\n",
    "    snd_fit = 1000000\n",
    "    snd_person = []\n",
    "    \n",
    "    # Generate and rank individuals.\n",
    "    for i in range(population_size):\n",
    "        # Generate an individual.\n",
    "        person = np.random.rand(predict_probability.shape[0])\n",
    "        for j in range(predict_probability.shape[0]):\n",
    "            person[j] = 0.0 if person[j] > predict_probability[j] else 1.0\n",
    "        \n",
    "        # Rank its fitness.\n",
    "        fitness = np.sum(np.abs(true_probability - person))\n",
    "        if fitness < fst_fit:\n",
    "            snd_fit = fst_fit\n",
    "            snd_person = fst_person\n",
    "            fst_fit = fitness\n",
    "            fst_person = person\n",
    "        elif fitness < snd_fit:\n",
    "            snd_fit = fitness\n",
    "            snd_person = person\n",
    "    \n",
    "    # Adjust the \n",
    "    predict_probability = predict_probability * (1 - lr) + lr*(fst_person+snd_person)/2\n",
    "    predict_probability_list[epoch] = predict_probability\n",
    "    \n",
    "    error[epoch] = np.sum(np.abs(true_probability - predict_probability))"
   ]
  },
  {
   "cell_type": "markdown",
   "metadata": {},
   "source": [
    "Here we compare the change in probabilities `predict_probability` over the epochs."
   ]
  },
  {
   "cell_type": "code",
   "execution_count": 4,
   "metadata": {
    "pycharm": {
     "is_executing": false,
     "name": "#%%\n"
    }
   },
   "outputs": [
    {
     "data": {
      "image/png": "[encoded data removed]",
      "text/plain": [
       "<Figure size 432x288 with 1 Axes>"
      ]
     },
     "metadata": {
      "needs_background": "light"
     },
     "output_type": "display_data"
    }
   ],
   "source": [
    "plt.scatter(predict_probability_list[:,0],predict_probability_list[:,1], s=0.5)\n",
    "plt.title('Feature [0,1] predict probability')\n",
    "plt.show()"
   ]
  },
  {
   "cell_type": "markdown",
   "metadata": {},
   "source": [
    "Here we visualise the error over the epochs."
   ]
  },
  {
   "cell_type": "code",
   "execution_count": 5,
   "metadata": {
    "pycharm": {
     "is_executing": false,
     "name": "#%%\n"
    }
   },
   "outputs": [
    {
     "data": {
      "text/plain": [
       "[<matplotlib.lines.Line2D at 0x121dfd2d0>]"
      ]
     },
     "execution_count": 5,
     "metadata": {},
     "output_type": "execute_result"
    },
    {
     "data": {
      "image/png": "[encoded data removed]",
      "text/plain": [
       "<Figure size 432x288 with 1 Axes>"
      ]
     },
     "metadata": {
      "needs_background": "light"
     },
     "output_type": "display_data"
    }
   ],
   "source": [
    "plt.title('Overall SAE')\n",
    "plt.plot(error)"
   ]
  },
  {
   "cell_type": "markdown",
   "metadata": {},
   "source": [
    "Q.E.D. we can see that the error diminishes as the algorithm progresses, even though the learning-rate stays constant, therefore it converges."
   ]
  }
 ],
 "metadata": {
  "kernelspec": {
   "display_name": "Python 3",
   "language": "python",
   "name": "python3"
  },
  "language_info": {
   "codemirror_mode": {
    "name": "ipython",
    "version": 3
   },
   "file_extension": ".py",
   "mimetype": "text/x-python",
   "name": "python",
   "nbconvert_exporter": "python",
   "pygments_lexer": "ipython3",
   "version": "3.7.5"
  },
  "pycharm": {
   "stem_cell": {
    "cell_type": "raw",
    "metadata": {
     "collapsed": false
    },
    "source": []
   }
  }
 },
 "nbformat": 4,
 "nbformat_minor": 4
}
