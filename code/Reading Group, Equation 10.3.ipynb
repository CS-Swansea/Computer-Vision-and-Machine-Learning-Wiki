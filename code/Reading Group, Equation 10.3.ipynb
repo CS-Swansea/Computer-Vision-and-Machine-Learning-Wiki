{
 "cells": [
  {
   "cell_type": "markdown",
   "metadata": {},
   "source": [
    "# EQ. 10.3 does not converge.\n",
    "## HAH!\n",
    "### (Except actually it does.)"
   ]
  },
  {
   "cell_type": "markdown",
   "metadata": {},
   "source": [
    "To determine whether the Equation 10.3. in Stephen Marsland's book *Machine Learning: An Algorithmic Perspective* would lead the probabilistic evolutionary model to converge, Gavin implemented a genetic algorithm in this notebook that generates populations from a string of probabilities.\n",
    "\n",
    "$$ p = p \\times (1 - \\eta) + \\frac{\\eta(\\text{best} + \\text{second})}{2} $$\n",
    "\n",
    "After a lengthy, arduous back-and-forth, he discovered that the equation, as stated in the book, does, indeed, contrary to his expectations&mdash;converge."
   ]
  },
  {
   "cell_type": "code",
   "execution_count": 1,
   "metadata": {
    "pycharm": {
     "is_executing": false
    }
   },
   "outputs": [],
   "source": [
    "import numpy as np\n",
    "import matplotlib.pyplot as plt"
   ]
  },
  {
   "cell_type": "markdown",
   "metadata": {},
   "source": [
    "First we initialise a string of probabilities that represents the optimal gene selection (corresponding to a measure on some task; it is only for the sake of having some optimum).\n",
    "\n",
    "Then we initialise the string of probabilities on which we begin to learn, along with some other parameters about our population."
   ]
  },
  {
   "cell_type": "code",
   "execution_count": 2,
   "metadata": {
    "pycharm": {
     "is_executing": false,
     "name": "#%%\n"
    }
   },
   "outputs": [],
   "source": [
    "true_probability = np.array([1.0, 0.0, 1.0, 0.0, 1.0])\n",
    "predict_probability = np.array([0.5, 0.5, 0.5, 0.5, 0.5])\n",
    "max_epoch = 10000\n",
    "population_size = 3\n",
    "lr = 0.005\n",
    "predict_probability_list = np.empty((max_epoch, predict_probability.shape[0]))\n",
    "error = np.empty(max_epoch)"
   ]
  },
  {
   "cell_type": "markdown",
   "metadata": {},
   "source": [
    "At each epoch we generate a pool of new individuals from `predict_probability`.\n",
    "\n",
    "We measure their fitness by comparing their genes to the optimum values (`true_probability`).\n",
    "\n",
    "We rank the individual according to its fitness."
   ]
  },
  {
   "cell_type": "code",
   "execution_count": 3,
   "metadata": {
    "pycharm": {
     "is_executing": false,
     "name": "#%%\n"
    }
   },
   "outputs": [],
   "source": [
    "for epoch in range(max_epoch):\n",
    "    fst_fit = 1000000\n",
    "    fst_person = []\n",
    "    snd_fit = 1000000\n",
    "    snd_person = []\n",
    "    \n",
    "    # Generate and rank individuals.\n",
    "    for i in range(population_size):\n",
    "        # Generate an individual.\n",
    "        person = np.random.rand(predict_probability.shape[0])\n",
    "        for j in range(predict_probability.shape[0]):\n",
    "            person[j] = 0.0 if person[j] > predict_probability[j] else 1.0\n",
    "        \n",
    "        # Rank its fitness.\n",
    "        fitness = np.sum(np.abs(true_probability - person))\n",
    "        if fitness < fst_fit:\n",
    "            snd_fit = fst_fit\n",
    "            snd_person = fst_person\n",
    "            fst_fit = fitness\n",
    "            fst_person = person\n",
    "        elif fitness < snd_fit:\n",
    "            snd_fit = fitness\n",
    "            snd_person = person\n",
    "    \n",
    "    # Adjust the probabilities of each gene.\n",
    "    predict_probability = predict_probability * (1 - lr) + lr*(fst_person+snd_person)/2\n",
    "    predict_probability_list[epoch] = predict_probability\n",
    "    \n",
    "    # Calculate the error for this epoch.\n",
    "    error[epoch] = np.sum(np.abs(true_probability - predict_probability))"
   ]
  },
  {
   "cell_type": "markdown",
   "metadata": {},
   "source": [
    "Here we compare the change in probabilities `predict_probability` over the epochs."
   ]
  },
  {
   "cell_type": "code",
   "execution_count": 4,
   "metadata": {
    "pycharm": {
     "is_executing": false,
     "name": "#%%\n"
    }
   },
   "outputs": [
    {
     "data": {
      "image/png": "[encoded data removed]",
      "text/plain": [
       "<Figure size 432x288 with 1 Axes>"
      ]
     },
     "metadata": {
      "needs_background": "light"
     },
     "output_type": "display_data"
    }
   ],
   "source": [
    "plt.scatter(predict_probability_list[:,0],predict_probability_list[:,1], s=0.5)\n",
    "plt.title('Feature [0,1] predict probability')\n",
    "plt.xlabel('Feature 0')\n",
    "plt.ylabel('Feature 1')\n",
    "plt.show()"
   ]
  },
  {
   "cell_type": "markdown",
   "metadata": {},
   "source": [
    "Here we visualise the error over the epochs."
   ]
  },
  {
   "cell_type": "code",
   "execution_count": 5,
   "metadata": {
    "pycharm": {
     "is_executing": false,
     "name": "#%%\n"
    }
   },
   "outputs": [
    {
     "data": {
      "text/plain": [
       "[<matplotlib.lines.Line2D at 0x11a13bc90>]"
      ]
     },
     "execution_count": 5,
     "metadata": {},
     "output_type": "execute_result"
    },
    {
     "data": {
      "image/png": "[encoded data removed]",
      "text/plain": [
       "<Figure size 432x288 with 1 Axes>"
      ]
     },
     "metadata": {
      "needs_background": "light"
     },
     "output_type": "display_data"
    }
   ],
   "source": [
    "plt.title('Overall SAE')\n",
    "plt.title('MAE loss over epochs')\n",
    "plt.xlabel('Epoch')\n",
    "plt.ylabel('Loss')\n",
    "plt.plot(error)"
   ]
  },
  {
   "cell_type": "markdown",
   "metadata": {},
   "source": [
    "Q.E.D. we can see that the error diminishes as the algorithm progresses, even though the learning-rate stays constant, therefore it converges."
   ]
  },
  {
   "cell_type": "markdown",
   "metadata": {},
   "source": [
    "### Dr. Joss Whittle's Witty Rebuttal\n",
    "\n",
    "The no-free-lunch theorem applies to the general case and for fitness spaces with unknown curvature and discontinuities.\n",
    "\n",
    "The mean-absolute-error loss-space is smooth in all dimensions sloping directly towards a single global optimum, so convergence is guaranteed in the limit for sensibly chosen learning-rates.\n",
    "\n",
    "If you add a constraint to the loss function which introduces local optima and sharp edges, such as&mdash;\n",
    "\n",
    "```\n",
    "# Local minima\n",
    "red_herring_probability = np.array([1.0, 1.0, 0.0, 1.0, 0.0])\n",
    "red_herring_mae = max(np.sum(np.abs(red_herring_probability - person)), 0.5)\n",
    "\n",
    "# Global minima\n",
    "true_mae = np.sum(np.abs(true_probability - person))\n",
    "\n",
    "# Constraint that adds some cliff edges\n",
    "constraint = (1 if np.sum(person) == np.sum(true_probability) else np.inf)\n",
    "\n",
    "fitness = min(true_mae, red_herring_mae) * constraint\n",
    "```\n",
    "\n",
    "&mdash;which has the same global optimum, then the algorithm is not guaranteed to converge, especially when the size of the genome is increased from 5 to something like 100.\n",
    "\n",
    "In real-world problems for GA you don't have `true_probability` to make a direct comparison to: you have some task or objective function defined `fitness(person)`, which can have much more interesting properties (and disjoint regions)."
   ]
  },
  {
   "cell_type": "markdown",
   "metadata": {},
   "source": [
    "#### Implementing Joss' Objections"
   ]
  },
  {
   "cell_type": "code",
   "execution_count": 6,
   "metadata": {},
   "outputs": [],
   "source": [
    "population_size = 100\n",
    "genome_size = 100\n",
    "true_probability = np.random.randint(0, 1, size=genome_size).astype(float)\n",
    "predict_probability = np.array([0.5] * genome_size)\n",
    "predict_probability_list = np.empty((max_epoch, predict_probability.shape[0]))\n",
    "error = np.empty(max_epoch)"
   ]
  },
  {
   "cell_type": "code",
   "execution_count": 7,
   "metadata": {},
   "outputs": [],
   "source": [
    "for epoch in range(max_epoch):\n",
    "    fst_fit = 1000000\n",
    "    fst_person = []\n",
    "    snd_fit = 1000000\n",
    "    snd_person = []\n",
    "    \n",
    "    # Generate and rank individuals.\n",
    "    for i in range(population_size):\n",
    "        # Generate an individual.\n",
    "        person = np.random.rand(predict_probability.shape[0])\n",
    "        for j in range(predict_probability.shape[0]):\n",
    "            person[j] = 0.0 if person[j] > predict_probability[j] else 1.0\n",
    "        \n",
    "        # Rank its fitness.\n",
    "        fitness = np.sum(np.abs(true_probability - person))\n",
    "        if fitness < fst_fit:\n",
    "            snd_fit = fst_fit\n",
    "            snd_person = fst_person\n",
    "            fst_fit = fitness\n",
    "            fst_person = person\n",
    "        elif fitness < snd_fit:\n",
    "            snd_fit = fitness\n",
    "            snd_person = person\n",
    "    \n",
    "    # Adjust the probabilities of each gene.\n",
    "    predict_probability = predict_probability * (1 - lr) + lr*(fst_person+snd_person)/2\n",
    "    predict_probability_list[epoch] = predict_probability\n",
    "    \n",
    "    # Constraint that adds some cliff edges\n",
    "    constraint = (1 if np.sum(person) == np.sum(true_probability) else np.inf)\n",
    "    \n",
    "    # Calculate the error for this epoch.\n",
    "    true_mae = np.sum(np.abs(true_probability - predict_probability))\n",
    "    red_herring_mae = true_mae * constraint\n",
    "    \n",
    "    fitness = min(true_mae, red_herring_mae) * constraint\n",
    "    \n",
    "    error[epoch] = fitness"
   ]
  },
  {
   "cell_type": "code",
   "execution_count": 8,
   "metadata": {},
   "outputs": [
    {
     "data": {
      "image/png": "[encoded data removed]",
      "text/plain": [
       "<Figure size 432x288 with 1 Axes>"
      ]
     },
     "metadata": {
      "needs_background": "light"
     },
     "output_type": "display_data"
    }
   ],
   "source": [
    "plt.scatter(predict_probability_list[:,0],predict_probability_list[:,1], s=0.5)\n",
    "plt.title('Feature [0,1] predict probability')\n",
    "plt.xlabel('Feature 0')\n",
    "plt.ylabel('Feature 1')\n",
    "plt.show()"
   ]
  },
  {
   "cell_type": "code",
   "execution_count": 9,
   "metadata": {},
   "outputs": [
    {
     "data": {
      "text/plain": [
       "[<matplotlib.lines.Line2D at 0x11a227b90>]"
      ]
     },
     "execution_count": 9,
     "metadata": {},
     "output_type": "execute_result"
    },
    {
     "data": {
      "image/png": "[encoded data removed]",
      "text/plain": [
       "<Figure size 432x288 with 1 Axes>"
      ]
     },
     "metadata": {
      "needs_background": "light"
     },
     "output_type": "display_data"
    }
   ],
   "source": [
    "plt.title('Overall SAE')\n",
    "plt.title('MAE loss over epochs')\n",
    "plt.xlabel('Epoch')\n",
    "plt.ylabel('Loss')\n",
    "plt.plot(error)"
   ]
  }
 ],
 "metadata": {
  "kernelspec": {
   "display_name": "Python 3",
   "language": "python",
   "name": "python3"
  },
  "language_info": {
   "codemirror_mode": {
    "name": "ipython",
    "version": 3
   },
   "file_extension": ".py",
   "mimetype": "text/x-python",
   "name": "python",
   "nbconvert_exporter": "python",
   "pygments_lexer": "ipython3",
   "version": "3.7.5"
  },
  "pycharm": {
   "stem_cell": {
    "cell_type": "raw",
    "metadata": {
     "collapsed": false
    },
    "source": []
   }
  }
 },
 "nbformat": 4,
 "nbformat_minor": 4
}
