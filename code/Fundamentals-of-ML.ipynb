{
 "cells": [
  {
   "cell_type": "markdown",
   "metadata": {},
   "source": [
    "# A Brief Guide to the Fundamentals of Machine Learning"
   ]
  },
  {
   "cell_type": "markdown",
   "metadata": {},
   "source": [
    "## Table of Contents\n",
    "\n",
    "1. [Introduction](#introduction)\n",
    "    1. [Purpose](#introduction_purpose)\n",
    "    2. [Why the Mathematics Are Important](#introduction_why)\n",
    "    3. [Python Imports](#introduction_python)\n",
    "2. [Intuition Pumps: Patterns and False Friends; and Linear Functions](#linear)\n",
    "    1. [First Thoughts](#linear_firstthoughts)\n",
    "    2. [Our First Model: Feet and Centimetres](#linear_example_1)\n",
    "    3. [Linearity](#linear_linearity)\n",
    "    4. [Functions, Generalisation and Abstraction](#linear_functions)"
   ]
  },
  {
   "cell_type": "markdown",
   "metadata": {},
   "source": [
    "## 1.Introduction<a class='header' id='introduction'></a>\n",
    "### Purpose<a class='header' id='introduction_purpose'></a>\n",
    "This guide is intended for students of computer science who have chosen to narrow their focus to machine learning. Underlying machine learning is a statistical basis, which for most, including myself, is hard to grasp. Unfortunately it is essential; yet it is difficult to understand at first, as it requires you to twist your thinking in counter-intuitive ways. Perhaps you have read the books on the matter, but the language is so opaque, that it makes you wonder whether anyone _really_ understands it.\n",
    "\n",
    "At all points I will try to enunciate as clearly as I can the concepts, terms or turns of phrase that one encounters frequently in machine learning. There is a [glossary](#glossary) at the end of the notebook that should elucidate the meaning of the most commonly-used phrases and terms in machine learning. Any imagery will be accompanied by concrete examples.\n",
    "\n",
    "Note that this is an interactive notebook. **Should anything still be unclear, or if I have expressed myself poorly, _please tell me:_** my email is [788486@swansea.ac.uk](mailto:788486@swansea.ac.uk).\n",
    "\n",
    "### Why the Mathematics Are Important<a class='header' id='introduction_why'></a>\n",
    "\n",
    "You might ask why one should bother learning the mathematics if there are code-libraries (such as scikit-learn and Tensorflow) that deal with the tricky details for you. It is true enough that you can manage with a handful of intuitions and do OK. But you won't much beyond the intuitions if you do not understand the fundamentals. If intuitions conflict, I believe you shall have no reliable means of resolution. If reasoning does lead you to new intuitions, there is nothing to confirm their validity, and no firmament upon which to ground their truth. The foundations are crucial, literally and metaphorically.\n",
    "\n",
    "**In learning the mathematics, you will learn new ways to think,** abandon old ways of thinking and in their place establish new ones. Mathematics is not merely numbers and symbols: it is the epitome of reason. (Until the 19th century at least, philosophy, mathematics and all sciences&mdash;natural and social&mdash;were considered one and the same.) In machine learning, you will be building models consciously and deliberately. The choices you make will be on the basis of mathematics, consciously or not. When visualisations or intuitions fail you, the mathematics will come to your aid.\n",
    "\n",
    "In learning these mathematics, you will become a better programmer, architect&mdash;and thinker.\n",
    "\n",
    "### Python Imports<a class='header' id='introduction_python'></a>\n",
    "\n",
    "`Numpy` is a library that enables matrix and vector mathematics in Python. Python is too slow for computing these mathematics, and as `Numpy` is written in C, it is faster by orders.\n",
    "\n",
    "`Matplotlib` is a library for plotting graphs. We will be using these in our concrete examples."
   ]
  },
  {
   "cell_type": "code",
   "execution_count": 2,
   "metadata": {},
   "outputs": [],
   "source": [
    "import numpy as np\n",
    "import matplotlib.pyplot as plt"
   ]
  },
  {
   "cell_type": "markdown",
   "metadata": {},
   "source": [
    "### 2. Intuition Pumps: Patterns and False Friends; and Linear Functions<a class='header' id='linear'></a>\n",
    "\n",
    "In this section we work the obstacles an absolute beginner will encounter. I have tried to relate this writing back to my experiences as an undergraduate. I struggled immensely with the course-content. I am hoping you can learn from me.\n",
    "\n",
    "***\n",
    "\n",
    "#### First Thoughts<a class='header' id='linear_firstthoughts'></a>\n",
    "\n",
    "Any course on machine learning will tell you that the goal of machine learning is to find patterns in data. When I first heard this during my undergraduate degree, my thoughts were various:\n",
    "\n",
    "* How am I supposed to know which 'pattern' this data has? Is there a bank of 'patterns' to fit?\n",
    "* How does a computer know what a pattern is?\n",
    "* Without knowing all the data in the world, how can a computer see something new and work out what it is?\n",
    "\n",
    "The first referent is the human. Firstly I thought, 'As a human, how do I recognise patterns?' This question in turn leads to wider philosophical questions, and while interesting, it isn't when you're an undergraduate student trying to understand what Bayesian priors and posteriors are, and is conducive to existential crises.\n",
    "\n",
    "Unfortunately **it's better to simply ignore all comparisons to human pattern-finding**; it's frequently a false friend. So let's build everything up from the ground, starting with the most relatable concept I could think of.\n",
    "\n",
    "#### Example 1: Our First Model: Feet and Centimetres<a class='header' id='linear_example_1'></a>\n",
    "\n",
    "Do you remember fitting lines of best fit to a graph with a set of points? That's machine learning in its most basic form. That line is what we term a [model](#gloss_model). That set of points through which we draw our line is our [dataset](#gloss_dataset). The line describes the relationship or [pattern](#gloss_pattern) between two values or [variables](#gloss_variable).\n",
    "\n",
    "The conversion from feet to centimetres is exact: if you know someone's height in feet, you know their height in centimetres. The rate is exact: 1 foot is 30.48 centimetres (to four significant figures). We can also state this fact algebraically: Suppose the height in feet is a [variable](#gloss_variable) $x$. The height in centimetres $y$ is given by $$y=30.48\\cdot x.$$ Conversely, supposing the height in centimetres is a random variable $y$, the height in feet is defined as $$x=\\frac{y}{30.48}.$$\n",
    "\n",
    "Below I have written Python code that implements the above example. First we make some [observations](#gloss_observations) of the height in feet. Then we convert these measurements to centimetres by multiplying the observations by 30.48. Then we plot the two variables against one another."
   ]
  },
  {
   "cell_type": "code",
   "execution_count": 3,
   "metadata": {},
   "outputs": [
    {
     "name": "stdout",
     "output_type": "stream",
     "text": [
      "Our height measurements in feet: [ 0  1  2  3  4  5  6  7  8  9 10]\n",
      "Our height measurements in centimetres: [  0.    30.48  60.96  91.44 121.92 152.4  182.88 213.36 243.84 274.32\n",
      " 304.8 ]\n"
     ]
    },
    {
     "data": {
      "image/png": "[encoded data removed]",
      "text/plain": [
       "<Figure size 432x288 with 1 Axes>"
      ]
     },
     "metadata": {
      "needs_background": "light"
     },
     "output_type": "display_data"
    }
   ],
   "source": [
    "# An array from 0 to 10 inclusive.\n",
    "height_in_feet = np.arange(0, 11) # We called this the random variable x above.\n",
    "print('Our height measurements in feet:', height_in_feet)\n",
    "\n",
    "# Multiply the heigh in feet by 30.48 to obtain the height in centimetres\n",
    "height_in_centimetres = height_in_feet * 30.48 # We called this the random variable y above.\n",
    "print('Our height measurements in centimetres:', height_in_centimetres)\n",
    "\n",
    "# Now we can plot the two variables against each other.\n",
    "# First we plot points as a scatter graph.\n",
    "plt.scatter(height_in_feet, # x-values\n",
    "            height_in_centimetres, # y-values\n",
    "            marker='x', # The shape of the markers of the points, an ex.\n",
    "            c='r', # The colour of the markers, red.\n",
    "            s=100, # The size of the marker.\n",
    "           )\n",
    "# Then we use the coordinates to plot blue line over the top.\n",
    "# This happens to be the line of best fit, too.\n",
    "plt.plot(height_in_feet, height_in_centimetres, linestyle='dashed', c='b') # The colour is blue this time.\n",
    "\n",
    "# Add labels to the plot.\n",
    "plt.title('A plotting of feet v. centimetres')\n",
    "plt.xlabel('Feet')\n",
    "plt.ylabel('Centimetres')\n",
    "\n",
    "# Adding a grid to make interpretation easier.\n",
    "plt.grid()\n",
    "\n",
    "# Show the plot in the notebook\n",
    "plt.show()"
   ]
  },
  {
   "cell_type": "markdown",
   "metadata": {},
   "source": [
    "#### Linearity<a class='header' id='linear_linearity'></a>\n",
    "\n",
    "Notice that by plotting the line through the points marking the observations, we have also produced a line of best fit. Moreover, the line of best fit is a *straight line*. If we look back at our equation for $x$ and $y$, we will see why this makes sense. The relationship between $x$ and $y$ is $y = 30.48 \\cdot x$. This should look familiar. Before you came to university, you almost certainly learned the equation for a line: $y = m \\cdot x + c$. This equation's form is *identical* to the form of $y = 30.48 \\cdot$, except $c = 0$ and so it is mising. For this reason, we can say that **the relationship between this $x$ and $y$ is [linear](#gloss_linearity) because it forms a line on the graph**.\n",
    "\n",
    "#### Functions, Generalisation and Abstraction<a class='header' id='linear_functions'></a>\n",
    "\n",
    "Notice that we are now speaking of feet and centimetres as $x$ and $y$. This initially served to simplify the notation in the mathematics. But, as we will see, this use will unite us with far greater concepts in machine learning.\n",
    "\n",
    "Firstly, we can be sure that $y=30.48 \\cdot x$ will tell us the value of $y$ for every value of $x$ and *vice versa*. So we may say we have find the *general* relationship between $x$ and $y$.\n",
    "\n",
    "Secondly, suppose we do not know how feet and centimetres are related. One option is a [closed-form solution](#gloss_closedform_solution), where we work out $x$ and $y$ from actual measurements, and rearrange the equation $y=m\\cdot x+c$ to solve for the gradient $m$ and $c$. But there is an implicit assumption to this approach: We are assuming that the relationship between $x$ and $y$ is linear. What if we do not know the *nature* of the relationship? Perhaps it is not linear. But we know that there is *some* relationship.\n",
    "\n",
    "Where we know neither this relationship nor its nature, there is a clean mathematical notation to describe that relationship: a [function](#gloss_function), usually denoted $f$. We know that there *is* a relationship between $x$ and $y$, so we can describe it mathematically: $$y=f(x)$$ and its inverse $$x=f^\\prime(y).$$\n",
    "\n",
    "What we have done here is **abstract** the relationship between $x$ and $y$, insomuch as we have removed all particulars; i.e., the conversion-factor 30.48.\n",
    "\n",
    "We can abstract the case even more: $x$ and $y$ simply do not have to represent anything in particular. The equation $y=f(x)$ describes the relationship of $x$ and $y$; but it could just as easily describe $w$ and $z$: $z = f(w)$. The two are equivalent. The variables $x$, $y$, $w$ and $z$ do not stand for a particular thing right now. Thus we have abstracted the relationship.\n",
    "\n",
    "#### The Object of Machine Learning: Finding the Best Function<a class='header' id='linear_object'></a>\n",
    "\n",
    "This is the driving question of machine learning: If I know a value $x$, what function $f$ will most accurately predict $y$? Every effort thereafter has this higher goal in mind.\n",
    "\n",
    "In some cases, as in the [example above](#linear_example_1), a simple visualisation will suffice. We can infer immediately that the relationship is linear.\n",
    "\n",
    "\n",
    "\n",
    "Here are some examples to help you think about what kind of problems we might have:\n",
    "* If I have a hand ($x$) in a game of poker, what set of moves ($y$) will give me a victory?\n",
    "* If I am age ($x$), how likely ($y$) am I to develop Alzheimer's?\n",
    "* Given life, the universe and everything ($x$), what is its meaning ($y$)?"
   ]
  },
  {
   "cell_type": "markdown",
   "metadata": {},
   "source": [
    "## Notes\n",
    "\n",
    "General is not the same as exact.\n",
    "\n",
    "Concave functions desirable when optimising.\n",
    "\n",
    "Introduce quadratic functions next, followed by optimisation functions."
   ]
  },
  {
   "cell_type": "markdown",
   "metadata": {},
   "source": [
    "## Glossary<a class='header' id='glossary'></a>\n",
    "\n",
    "The below-stated words are not definitions, so **do not cite these descriptions in your reports or formal academic work**. The purpose of this glossary is to aid your comprehension. Notwithstanding this caveat, they should not conflict with what you learn.\n",
    "\n",
    "<a class='glossary' id='gloss_closedform_solution'>**Closed-form solution**</a> &ndash; \n",
    "\n",
    "<a class='glossary' id='gloss_constant'>**Constant**</a> &ndash; A variable with a fixed value.\n",
    "\n",
    "<a class='glossary' id='gloss_function'>**Function**</a> &ndash; A function is frequently used to describe \n",
    "\n",
    "<a class='glossary' id='gloss_independent_variable'>**Independent variable**</a> &ndash; A factor that determines or influences a dependent variable.\n",
    "\n",
    "<a class='glossary' id='gloss_linearity'>**Linearity**</a> &ndash; Linearity is the noun given to the following property: Two variables $x$ and $y$ are linearly related to each other if their relationship can be described in the form $y=m\\cdot x+c$. In other words, if we add $p$ to $x$, then we can find the value of $y$ by adding $m \\cdot p + c$.\n",
    "\n",
    "<a class='glossary' id='gloss_observations'>**Observations**</a> &ndash; An observation of a variable is a record of the variable's taking on a value. For example, for a variable $x$, an observation of $x$ may be when $x=1$. An observation of height is 250cm. Without a particular value, $x$ is yet a variable, and height is an undefined quality.\n",
    "\n",
    "<a class='glossary' id='gloss_predictors'>**Predictors**</a> &ndash; *See [independent variable](#gloss_independent_variable).*\n",
    "\n",
    "<a class='glossary' id='gloss_random_variable'>**Random variable**</a> &ndash; A random variable can take on any value without any restriction on what value that variable will take. If the domain of a variable is $\\left[-\\infty, \\infty\\right]$ It is used as a placeholder. If we define a function on a random variable, we are saying, 'This function applies to all values.'\n",
    "\n",
    "<a class='glossary' id='gloss_variable'>**Variable**</a> &ndash; A variable represents an unknown numerical value. (This definition is lifted from the [*Encyclopaedia Britannica*](https://www.britannica.com/topic/variable-mathematics-and-logic).)"
   ]
  },
  {
   "cell_type": "code",
   "execution_count": null,
   "metadata": {},
   "outputs": [],
   "source": []
  }
 ],
 "metadata": {
  "kernelspec": {
   "display_name": "Python 3",
   "language": "python",
   "name": "python3"
  },
  "language_info": {
   "codemirror_mode": {
    "name": "ipython",
    "version": 3
   },
   "file_extension": ".py",
   "mimetype": "text/x-python",
   "name": "python",
   "nbconvert_exporter": "python",
   "pygments_lexer": "ipython3",
   "version": "3.7.3"
  },
  "toc-autonumbering": false,
  "toc-showcode": false,
  "toc-showtags": false
 },
 "nbformat": 4,
 "nbformat_minor": 2
}
