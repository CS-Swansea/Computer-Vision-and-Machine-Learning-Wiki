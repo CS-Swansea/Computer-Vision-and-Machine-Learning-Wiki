{
 "cells": [
  {
   "cell_type": "markdown",
   "metadata": {},
   "source": [
    "# A Cheatsheet for Jupyter Notebook and Jupyter Lab\n",
    "\n",
    "In order to help you program more quickly and effectively, we have produced a list of the most frequently used shortcuts in Jupyter.\n",
    "\n",
    "We suggest you scan over these shortcuts in order to know what is here. Do not worry about remembering them; you will pick them up in good time."
   ]
  },
  {
   "cell_type": "markdown",
   "metadata": {},
   "source": [
    "## The Two Modes of Jupyter\n",
    "\n",
    "Jupyter has two modes&mdash;editing mode and escape mode. You can use these keys to switch between the two.\n",
    "\n",
    "* `esc` &ndash; Switch to escape mode.\n",
    "* `enter` &ndash; Switch to edit mode."
   ]
  },
  {
   "cell_type": "markdown",
   "metadata": {},
   "source": [
    "## Cell-types\n",
    "\n",
    "There are three cell-types in Jupyter: Markdown, Code and Raw. You will probably never use Raw. Markdown and Code are self-explanatory. If you know how to use Markdown for Github, you know how to use it for Jupyter. A guide to Markdown may be found at your local Google.\n",
    "\n",
    "Switching between modes is non-destructive; it won't affect the contents.\n",
    "\n",
    "The following commands must be executed in **escape mode**.\n",
    "\n",
    "* `m` &ndash; Switch cell-type to Markdown.\n",
    "* `y` &ndash; Switch cell-type to Code\n",
    "* `r` &ndash; Switch cell-type to Raw."
   ]
  },
  {
   "cell_type": "markdown",
   "metadata": {},
   "source": [
    "## Navigating a Jupyter Notebook\n",
    "\n",
    "In escape mode, one of the cells will be highlighted. We will refer to this cell as the **current cell**.\n",
    "\n",
    "The following commands are best executed in **escape mode**. Some will partially work ineffectively in editing mode.\n",
    "\n",
    "* `up-arrow` &ndash; Move the cell-highlighter one cell up.\n",
    "* `down-arrow` &ndash; Move the cell-highlighter one cell down."
   ]
  },
  {
   "cell_type": "markdown",
   "metadata": {},
   "source": [
    "## Executing Cells\n",
    "\n",
    "These commands may be executed in **both editing and escape mode**.\n",
    "\n",
    "* `ctrl + enter` &ndash; Execute the current cell.\n",
    "* `shift + enter` &ndash; Execute the current cell and move to the next cell below.\n",
    "* `alt + enter` &ndash; Execute the current cell, make a new cell below, move to it, then enter editing mode."
   ]
  },
  {
   "cell_type": "markdown",
   "metadata": {},
   "source": [
    "## Adding New Cells\n",
    "\n",
    "You can add cells in a position relative to the current cell.\n",
    "\n",
    "* `a` &ndash; Add new cell *above* the current cell.\n",
    "* `b` &ndash; Add new cell *below* the current cell."
   ]
  },
  {
   "cell_type": "markdown",
   "metadata": {},
   "source": [
    "## Quickly See Documentation\n",
    "\n",
    "This is overlooked by beginners, who spend their time googling more than is necessary.\n",
    "\n",
    "* `shift + tab` &ndash; View the documentation.\n",
    "\n",
    "The documentation appears in a dialog-box. Press the plus icon at the top right to see the full documentation. This is a fickle shortcut, so you must ensure that the caret is inside the function's parathenses.\n",
    "\n",
    "For example, if I am using `math.floor()`, I must have my caret inside the parantheses. If the function contains multiple paramters, it will work anywhere inside the function."
   ]
  },
  {
   "cell_type": "markdown",
   "metadata": {},
   "source": [
    "## Editing, Copying and Moving Cells\n",
    "\n",
    "These commands will help you restructure your code. The commands are particularly useful for moving cells *between* notebooks.\n",
    "\n",
    "The following commands must be executed in **escape mode**.\n",
    "\n",
    "* `c` &ndash; Copy the highlighted cell.\n",
    "* `x` &ndash; Cut the highlighted cell. (This is a copy followed by a deletion.)\n",
    "* `v` &ndash; Paste the copied cell.\n",
    "* `dd` &ndash; Delete the current cell.\n",
    "* `z` &ndash; Undo last cell operation.\n",
    "* `ctrl + z` &ndash; Redo last cell operation.\n",
    "\n",
    "You can perform some of the above operations on multiple cells if you highlight multiple cells.\n",
    "\n",
    "* `shift + up-arrow/down-arrow` or `shift + k/j` &ndash; Highlight multiple cells. Each additional up- or down-arrow is one more cell in that direction. Releasing the shift and pressing up or down will un-highlight the cells.\n",
    "\n",
    "The following commands must be executed in **editing mode**.\n",
    "\n",
    "* `ctrl + d` &ndash; Delete line of code at caret. "
   ]
  }
 ],
 "metadata": {
  "kernelspec": {
   "display_name": "Python 3",
   "language": "python",
   "name": "python3"
  },
  "language_info": {
   "codemirror_mode": {
    "name": "ipython",
    "version": 3
   },
   "file_extension": ".py",
   "mimetype": "text/x-python",
   "name": "python",
   "nbconvert_exporter": "python",
   "pygments_lexer": "ipython3",
   "version": "3.6.6"
  }
 },
 "nbformat": 4,
 "nbformat_minor": 4
}
